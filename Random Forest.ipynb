{
 "cells": [
  {
   "cell_type": "code",
   "execution_count": 1,
   "metadata": {},
   "outputs": [],
   "source": [
    "import pandas as pd"
   ]
  },
  {
   "cell_type": "code",
   "execution_count": 2,
   "metadata": {},
   "outputs": [
    {
     "name": "stdout",
     "output_type": "stream",
     "text": [
      "The shape of our features is: (257583, 9)\n"
     ]
    }
   ],
   "source": [
    "import numpy as np # linear algebra\n",
    "import pandas as pd # data processing\n",
    "df = pd.read_csv('household_power_consumption_2010.txt', sep=';', \n",
    "                 parse_dates={'dt' : ['Date', 'Time']}, infer_datetime_format=True, keep_date_col = True, \n",
    "                 low_memory=False, na_values=['nan','?'], index_col='dt')\n",
    "print('The shape of our features is:', df.shape)\n"
   ]
  },
  {
   "cell_type": "code",
   "execution_count": 3,
   "metadata": {
    "scrolled": true
   },
   "outputs": [
    {
     "data": {
      "text/html": [
       "<div>\n",
       "<style scoped>\n",
       "    .dataframe tbody tr th:only-of-type {\n",
       "        vertical-align: middle;\n",
       "    }\n",
       "\n",
       "    .dataframe tbody tr th {\n",
       "        vertical-align: top;\n",
       "    }\n",
       "\n",
       "    .dataframe thead th {\n",
       "        text-align: right;\n",
       "    }\n",
       "</style>\n",
       "<table border=\"1\" class=\"dataframe\">\n",
       "  <thead>\n",
       "    <tr style=\"text-align: right;\">\n",
       "      <th></th>\n",
       "      <th>Global_active_power</th>\n",
       "      <th>Global_reactive_power</th>\n",
       "      <th>Voltage</th>\n",
       "      <th>Global_intensity</th>\n",
       "      <th>Sub_metering_1</th>\n",
       "      <th>Sub_metering_2</th>\n",
       "      <th>Sub_metering_3</th>\n",
       "    </tr>\n",
       "  </thead>\n",
       "  <tbody>\n",
       "    <tr>\n",
       "      <th>count</th>\n",
       "      <td>245116.000000</td>\n",
       "      <td>245116.000000</td>\n",
       "      <td>245116.000000</td>\n",
       "      <td>245116.000000</td>\n",
       "      <td>245116.000000</td>\n",
       "      <td>245116.000000</td>\n",
       "      <td>245116.000000</td>\n",
       "    </tr>\n",
       "    <tr>\n",
       "      <th>mean</th>\n",
       "      <td>0.934322</td>\n",
       "      <td>0.137472</td>\n",
       "      <td>241.128671</td>\n",
       "      <td>3.985442</td>\n",
       "      <td>0.926659</td>\n",
       "      <td>0.995557</td>\n",
       "      <td>6.040724</td>\n",
       "    </tr>\n",
       "    <tr>\n",
       "      <th>std</th>\n",
       "      <td>0.858532</td>\n",
       "      <td>0.118183</td>\n",
       "      <td>2.628380</td>\n",
       "      <td>3.606815</td>\n",
       "      <td>5.426155</td>\n",
       "      <td>4.412561</td>\n",
       "      <td>8.242336</td>\n",
       "    </tr>\n",
       "    <tr>\n",
       "      <th>min</th>\n",
       "      <td>0.138000</td>\n",
       "      <td>0.000000</td>\n",
       "      <td>225.320000</td>\n",
       "      <td>0.600000</td>\n",
       "      <td>0.000000</td>\n",
       "      <td>0.000000</td>\n",
       "      <td>0.000000</td>\n",
       "    </tr>\n",
       "    <tr>\n",
       "      <th>25%</th>\n",
       "      <td>0.304000</td>\n",
       "      <td>0.058000</td>\n",
       "      <td>239.630000</td>\n",
       "      <td>1.400000</td>\n",
       "      <td>0.000000</td>\n",
       "      <td>0.000000</td>\n",
       "      <td>0.000000</td>\n",
       "    </tr>\n",
       "    <tr>\n",
       "      <th>50%</th>\n",
       "      <td>0.514000</td>\n",
       "      <td>0.106000</td>\n",
       "      <td>241.150000</td>\n",
       "      <td>2.400000</td>\n",
       "      <td>0.000000</td>\n",
       "      <td>0.000000</td>\n",
       "      <td>1.000000</td>\n",
       "    </tr>\n",
       "    <tr>\n",
       "      <th>75%</th>\n",
       "      <td>1.406000</td>\n",
       "      <td>0.206000</td>\n",
       "      <td>242.630000</td>\n",
       "      <td>5.800000</td>\n",
       "      <td>0.000000</td>\n",
       "      <td>1.000000</td>\n",
       "      <td>17.000000</td>\n",
       "    </tr>\n",
       "    <tr>\n",
       "      <th>max</th>\n",
       "      <td>9.724000</td>\n",
       "      <td>1.108000</td>\n",
       "      <td>253.530000</td>\n",
       "      <td>43.000000</td>\n",
       "      <td>81.000000</td>\n",
       "      <td>76.000000</td>\n",
       "      <td>31.000000</td>\n",
       "    </tr>\n",
       "  </tbody>\n",
       "</table>\n",
       "</div>"
      ],
      "text/plain": [
       "       Global_active_power  Global_reactive_power        Voltage  \\\n",
       "count        245116.000000          245116.000000  245116.000000   \n",
       "mean              0.934322               0.137472     241.128671   \n",
       "std               0.858532               0.118183       2.628380   \n",
       "min               0.138000               0.000000     225.320000   \n",
       "25%               0.304000               0.058000     239.630000   \n",
       "50%               0.514000               0.106000     241.150000   \n",
       "75%               1.406000               0.206000     242.630000   \n",
       "max               9.724000               1.108000     253.530000   \n",
       "\n",
       "       Global_intensity  Sub_metering_1  Sub_metering_2  Sub_metering_3  \n",
       "count     245116.000000   245116.000000   245116.000000   245116.000000  \n",
       "mean           3.985442        0.926659        0.995557        6.040724  \n",
       "std            3.606815        5.426155        4.412561        8.242336  \n",
       "min            0.600000        0.000000        0.000000        0.000000  \n",
       "25%            1.400000        0.000000        0.000000        0.000000  \n",
       "50%            2.400000        0.000000        0.000000        1.000000  \n",
       "75%            5.800000        0.000000        1.000000       17.000000  \n",
       "max           43.000000       81.000000       76.000000       31.000000  "
      ]
     },
     "execution_count": 3,
     "metadata": {},
     "output_type": "execute_result"
    }
   ],
   "source": [
    "df.describe()"
   ]
  },
  {
   "cell_type": "code",
   "execution_count": 4,
   "metadata": {},
   "outputs": [],
   "source": [
    "import datetime"
   ]
  },
  {
   "cell_type": "code",
   "execution_count": 5,
   "metadata": {},
   "outputs": [],
   "source": [
    "df = df.assign(avg=df.loc[:, [\"Global_active_power\", \"Global_reactive_power\"]].mean(axis=1))"
   ]
  },
  {
   "cell_type": "code",
   "execution_count": 6,
   "metadata": {},
   "outputs": [
    {
     "data": {
      "text/html": [
       "<div>\n",
       "<style scoped>\n",
       "    .dataframe tbody tr th:only-of-type {\n",
       "        vertical-align: middle;\n",
       "    }\n",
       "\n",
       "    .dataframe tbody tr th {\n",
       "        vertical-align: top;\n",
       "    }\n",
       "\n",
       "    .dataframe thead th {\n",
       "        text-align: right;\n",
       "    }\n",
       "</style>\n",
       "<table border=\"1\" class=\"dataframe\">\n",
       "  <thead>\n",
       "    <tr style=\"text-align: right;\">\n",
       "      <th></th>\n",
       "      <th>Global_active_power</th>\n",
       "      <th>Global_reactive_power</th>\n",
       "      <th>Voltage</th>\n",
       "      <th>Global_intensity</th>\n",
       "      <th>Sub_metering_1</th>\n",
       "      <th>Sub_metering_2</th>\n",
       "      <th>Sub_metering_3</th>\n",
       "      <th>avg</th>\n",
       "    </tr>\n",
       "  </thead>\n",
       "  <tbody>\n",
       "    <tr>\n",
       "      <th>count</th>\n",
       "      <td>245116.000000</td>\n",
       "      <td>245116.000000</td>\n",
       "      <td>245116.000000</td>\n",
       "      <td>245116.000000</td>\n",
       "      <td>245116.000000</td>\n",
       "      <td>245116.000000</td>\n",
       "      <td>245116.000000</td>\n",
       "      <td>245116.000000</td>\n",
       "    </tr>\n",
       "    <tr>\n",
       "      <th>mean</th>\n",
       "      <td>0.934322</td>\n",
       "      <td>0.137472</td>\n",
       "      <td>241.128671</td>\n",
       "      <td>3.985442</td>\n",
       "      <td>0.926659</td>\n",
       "      <td>0.995557</td>\n",
       "      <td>6.040724</td>\n",
       "      <td>0.535897</td>\n",
       "    </tr>\n",
       "    <tr>\n",
       "      <th>std</th>\n",
       "      <td>0.858532</td>\n",
       "      <td>0.118183</td>\n",
       "      <td>2.628380</td>\n",
       "      <td>3.606815</td>\n",
       "      <td>5.426155</td>\n",
       "      <td>4.412561</td>\n",
       "      <td>8.242336</td>\n",
       "      <td>0.447890</td>\n",
       "    </tr>\n",
       "    <tr>\n",
       "      <th>min</th>\n",
       "      <td>0.138000</td>\n",
       "      <td>0.000000</td>\n",
       "      <td>225.320000</td>\n",
       "      <td>0.600000</td>\n",
       "      <td>0.000000</td>\n",
       "      <td>0.000000</td>\n",
       "      <td>0.000000</td>\n",
       "      <td>0.070000</td>\n",
       "    </tr>\n",
       "    <tr>\n",
       "      <th>25%</th>\n",
       "      <td>0.304000</td>\n",
       "      <td>0.058000</td>\n",
       "      <td>239.630000</td>\n",
       "      <td>1.400000</td>\n",
       "      <td>0.000000</td>\n",
       "      <td>0.000000</td>\n",
       "      <td>0.000000</td>\n",
       "      <td>0.195000</td>\n",
       "    </tr>\n",
       "    <tr>\n",
       "      <th>50%</th>\n",
       "      <td>0.514000</td>\n",
       "      <td>0.106000</td>\n",
       "      <td>241.150000</td>\n",
       "      <td>2.400000</td>\n",
       "      <td>0.000000</td>\n",
       "      <td>0.000000</td>\n",
       "      <td>1.000000</td>\n",
       "      <td>0.356000</td>\n",
       "    </tr>\n",
       "    <tr>\n",
       "      <th>75%</th>\n",
       "      <td>1.406000</td>\n",
       "      <td>0.206000</td>\n",
       "      <td>242.630000</td>\n",
       "      <td>5.800000</td>\n",
       "      <td>0.000000</td>\n",
       "      <td>1.000000</td>\n",
       "      <td>17.000000</td>\n",
       "      <td>0.768000</td>\n",
       "    </tr>\n",
       "    <tr>\n",
       "      <th>max</th>\n",
       "      <td>9.724000</td>\n",
       "      <td>1.108000</td>\n",
       "      <td>253.530000</td>\n",
       "      <td>43.000000</td>\n",
       "      <td>81.000000</td>\n",
       "      <td>76.000000</td>\n",
       "      <td>31.000000</td>\n",
       "      <td>4.893000</td>\n",
       "    </tr>\n",
       "  </tbody>\n",
       "</table>\n",
       "</div>"
      ],
      "text/plain": [
       "       Global_active_power  Global_reactive_power        Voltage  \\\n",
       "count        245116.000000          245116.000000  245116.000000   \n",
       "mean              0.934322               0.137472     241.128671   \n",
       "std               0.858532               0.118183       2.628380   \n",
       "min               0.138000               0.000000     225.320000   \n",
       "25%               0.304000               0.058000     239.630000   \n",
       "50%               0.514000               0.106000     241.150000   \n",
       "75%               1.406000               0.206000     242.630000   \n",
       "max               9.724000               1.108000     253.530000   \n",
       "\n",
       "       Global_intensity  Sub_metering_1  Sub_metering_2  Sub_metering_3  \\\n",
       "count     245116.000000   245116.000000   245116.000000   245116.000000   \n",
       "mean           3.985442        0.926659        0.995557        6.040724   \n",
       "std            3.606815        5.426155        4.412561        8.242336   \n",
       "min            0.600000        0.000000        0.000000        0.000000   \n",
       "25%            1.400000        0.000000        0.000000        0.000000   \n",
       "50%            2.400000        0.000000        0.000000        1.000000   \n",
       "75%            5.800000        0.000000        1.000000       17.000000   \n",
       "max           43.000000       81.000000       76.000000       31.000000   \n",
       "\n",
       "                 avg  \n",
       "count  245116.000000  \n",
       "mean        0.535897  \n",
       "std         0.447890  \n",
       "min         0.070000  \n",
       "25%         0.195000  \n",
       "50%         0.356000  \n",
       "75%         0.768000  \n",
       "max         4.893000  "
      ]
     },
     "execution_count": 6,
     "metadata": {},
     "output_type": "execute_result"
    }
   ],
   "source": [
    "df.describe()"
   ]
  },
  {
   "cell_type": "code",
   "execution_count": null,
   "metadata": {},
   "outputs": [],
   "source": []
  },
  {
   "cell_type": "code",
   "execution_count": 7,
   "metadata": {
    "scrolled": false
   },
   "outputs": [
    {
     "data": {
      "text/plain": [
       "dt\n",
       "2010-01-06 00:00:00      1/6/2010\n",
       "2010-01-06 00:01:00      1/6/2010\n",
       "2010-01-06 00:02:00      1/6/2010\n",
       "2010-01-06 00:03:00      1/6/2010\n",
       "2010-01-06 00:04:00      1/6/2010\n",
       "                          ...    \n",
       "2010-11-26 20:58:00    26/11/2010\n",
       "2010-11-26 20:59:00    26/11/2010\n",
       "2010-11-26 21:00:00    26/11/2010\n",
       "2010-11-26 21:01:00    26/11/2010\n",
       "2010-11-26 21:02:00    26/11/2010\n",
       "Name: Date, Length: 257583, dtype: object"
      ]
     },
     "execution_count": 7,
     "metadata": {},
     "output_type": "execute_result"
    }
   ],
   "source": [
    "df[\"Date\"]\n"
   ]
  },
  {
   "cell_type": "code",
   "execution_count": 8,
   "metadata": {},
   "outputs": [],
   "source": [
    "df[\"Date\"]=pd.to_datetime(df[\"Date\"])"
   ]
  },
  {
   "cell_type": "code",
   "execution_count": 9,
   "metadata": {},
   "outputs": [
    {
     "data": {
      "text/plain": [
       "dt\n",
       "2010-01-06 00:00:00   2010-01-06\n",
       "2010-01-06 00:01:00   2010-01-06\n",
       "2010-01-06 00:02:00   2010-01-06\n",
       "2010-01-06 00:03:00   2010-01-06\n",
       "2010-01-06 00:04:00   2010-01-06\n",
       "                         ...    \n",
       "2010-11-26 20:58:00   2010-11-26\n",
       "2010-11-26 20:59:00   2010-11-26\n",
       "2010-11-26 21:00:00   2010-11-26\n",
       "2010-11-26 21:01:00   2010-11-26\n",
       "2010-11-26 21:02:00   2010-11-26\n",
       "Name: Date, Length: 257583, dtype: datetime64[ns]"
      ]
     },
     "execution_count": 9,
     "metadata": {},
     "output_type": "execute_result"
    }
   ],
   "source": [
    "df[\"Date\"]"
   ]
  },
  {
   "cell_type": "code",
   "execution_count": 10,
   "metadata": {},
   "outputs": [],
   "source": [
    "# day\n",
    "days = df[\"Date\"].dt.day"
   ]
  },
  {
   "cell_type": "code",
   "execution_count": 11,
   "metadata": {},
   "outputs": [],
   "source": [
    "months = df[\"Date\"].dt.month"
   ]
  },
  {
   "cell_type": "code",
   "execution_count": 12,
   "metadata": {},
   "outputs": [],
   "source": [
    "years = df[\"Date\"].dt.year"
   ]
  },
  {
   "cell_type": "code",
   "execution_count": 13,
   "metadata": {},
   "outputs": [],
   "source": [
    "# List and then convert to datetime object\n",
    "dates = [str(int(year)) + '-' + str(int(month)) + '-' + str(int(day)) for year, month, day in zip(years, months, days)]\n",
    "dates = [datetime.datetime.strptime(date, '%Y-%m-%d') for date in dates]"
   ]
  },
  {
   "cell_type": "code",
   "execution_count": 14,
   "metadata": {},
   "outputs": [],
   "source": [
    "# Import matplotlib for plotting and use magic command for Jupyter Notebooks\n",
    "import matplotlib.pyplot as plt\n"
   ]
  },
  {
   "cell_type": "code",
   "execution_count": 15,
   "metadata": {},
   "outputs": [],
   "source": [
    "plt.style.use('fivethirtyeight')"
   ]
  },
  {
   "cell_type": "code",
   "execution_count": 16,
   "metadata": {},
   "outputs": [
    {
     "data": {
      "image/png": "[encoded data removed]",
      "text/plain": [
       "<Figure size 720x720 with 4 Axes>"
      ]
     },
     "metadata": {},
     "output_type": "display_data"
    }
   ],
   "source": [
    "# Set up the plotting layout\n",
    "fig, ((ax1, ax2), (ax3, ax4)) = plt.subplots(nrows=2, ncols=2, figsize = (10,10))\n",
    "fig.autofmt_xdate(rotation = 45)\n",
    "# Global Active Power\n",
    "ax1.plot(dates, df['Global_active_power'])\n",
    "ax1.set_xlabel(''); ax1.set_ylabel('kWh'); ax1.set_title('Global active power')\n",
    "\n",
    "# \n",
    "ax2.plot(dates, df['Global_reactive_power'])\n",
    "ax2.set_xlabel(''); ax2.set_ylabel('kWh'); ax2.set_title('Global reactive power')\n",
    "\n",
    "# \n",
    "ax3.plot(dates, df['Global_intensity'])\n",
    "ax3.set_xlabel('Date'); ax3.set_ylabel('A'); ax3.set_title('Global intensity')\n",
    "\n",
    "# \n",
    "ax4.plot(dates, df['avg'])\n",
    "ax4.set_xlabel('Date'); ax4.set_ylabel('kWh'); ax4.set_title('Average power')\n",
    "\n",
    "plt.tight_layout(pad=2)\n"
   ]
  },
  {
   "cell_type": "code",
   "execution_count": 17,
   "metadata": {},
   "outputs": [
    {
     "name": "stdout",
     "output_type": "stream",
     "text": [
      "                          Date  Global_active_power  Global_reactive_power  \\\n",
      "dt                                                                           \n",
      "2010-01-06 00:00:00 2010-01-06                0.326                  0.084   \n",
      "2010-01-06 00:01:00 2010-01-06                0.282                  0.000   \n",
      "2010-01-06 00:02:00 2010-01-06                0.234                  0.052   \n",
      "2010-01-06 00:03:00 2010-01-06                0.312                  0.000   \n",
      "2010-01-06 00:04:00 2010-01-06                0.326                  0.070   \n",
      "...                        ...                  ...                    ...   \n",
      "2010-11-26 20:58:00 2010-11-26                0.946                  0.000   \n",
      "2010-11-26 20:59:00 2010-11-26                0.944                  0.000   \n",
      "2010-11-26 21:00:00 2010-11-26                0.938                  0.000   \n",
      "2010-11-26 21:01:00 2010-11-26                0.934                  0.000   \n",
      "2010-11-26 21:02:00 2010-11-26                0.932                  0.000   \n",
      "\n",
      "                     Voltage  Global_intensity  Sub_metering_1  \\\n",
      "dt                                                               \n",
      "2010-01-06 00:00:00   243.16               1.4             0.0   \n",
      "2010-01-06 00:01:00   243.65               1.2             0.0   \n",
      "2010-01-06 00:02:00   243.42               1.0             0.0   \n",
      "2010-01-06 00:03:00   243.21               1.4             0.0   \n",
      "2010-01-06 00:04:00   243.20               1.4             0.0   \n",
      "...                      ...               ...             ...   \n",
      "2010-11-26 20:58:00   240.43               4.0             0.0   \n",
      "2010-11-26 20:59:00   240.00               4.0             0.0   \n",
      "2010-11-26 21:00:00   239.82               3.8             0.0   \n",
      "2010-11-26 21:01:00   239.70               3.8             0.0   \n",
      "2010-11-26 21:02:00   239.55               3.8             0.0   \n",
      "\n",
      "                     Sub_metering_2  Sub_metering_3    avg  Time_00:00:00  \\\n",
      "dt                                                                          \n",
      "2010-01-06 00:00:00             0.0             0.0  0.205              1   \n",
      "2010-01-06 00:01:00             0.0             1.0  0.141              0   \n",
      "2010-01-06 00:02:00             0.0             1.0  0.143              0   \n",
      "2010-01-06 00:03:00             0.0             0.0  0.156              0   \n",
      "2010-01-06 00:04:00             1.0             1.0  0.198              0   \n",
      "...                             ...             ...    ...            ...   \n",
      "2010-11-26 20:58:00             0.0             0.0  0.473              0   \n",
      "2010-11-26 20:59:00             0.0             0.0  0.472              0   \n",
      "2010-11-26 21:00:00             0.0             0.0  0.469              0   \n",
      "2010-11-26 21:01:00             0.0             0.0  0.467              0   \n",
      "2010-11-26 21:02:00             0.0             0.0  0.466              0   \n",
      "\n",
      "                     ...  Time_23:50:00  Time_23:51:00  Time_23:52:00  \\\n",
      "dt                   ...                                                \n",
      "2010-01-06 00:00:00  ...              0              0              0   \n",
      "2010-01-06 00:01:00  ...              0              0              0   \n",
      "2010-01-06 00:02:00  ...              0              0              0   \n",
      "2010-01-06 00:03:00  ...              0              0              0   \n",
      "2010-01-06 00:04:00  ...              0              0              0   \n",
      "...                  ...            ...            ...            ...   \n",
      "2010-11-26 20:58:00  ...              0              0              0   \n",
      "2010-11-26 20:59:00  ...              0              0              0   \n",
      "2010-11-26 21:00:00  ...              0              0              0   \n",
      "2010-11-26 21:01:00  ...              0              0              0   \n",
      "2010-11-26 21:02:00  ...              0              0              0   \n",
      "\n",
      "                     Time_23:53:00  Time_23:54:00  Time_23:55:00  \\\n",
      "dt                                                                 \n",
      "2010-01-06 00:00:00              0              0              0   \n",
      "2010-01-06 00:01:00              0              0              0   \n",
      "2010-01-06 00:02:00              0              0              0   \n",
      "2010-01-06 00:03:00              0              0              0   \n",
      "2010-01-06 00:04:00              0              0              0   \n",
      "...                            ...            ...            ...   \n",
      "2010-11-26 20:58:00              0              0              0   \n",
      "2010-11-26 20:59:00              0              0              0   \n",
      "2010-11-26 21:00:00              0              0              0   \n",
      "2010-11-26 21:01:00              0              0              0   \n",
      "2010-11-26 21:02:00              0              0              0   \n",
      "\n",
      "                     Time_23:56:00  Time_23:57:00  Time_23:58:00  \\\n",
      "dt                                                                 \n",
      "2010-01-06 00:00:00              0              0              0   \n",
      "2010-01-06 00:01:00              0              0              0   \n",
      "2010-01-06 00:02:00              0              0              0   \n",
      "2010-01-06 00:03:00              0              0              0   \n",
      "2010-01-06 00:04:00              0              0              0   \n",
      "...                            ...            ...            ...   \n",
      "2010-11-26 20:58:00              0              0              0   \n",
      "2010-11-26 20:59:00              0              0              0   \n",
      "2010-11-26 21:00:00              0              0              0   \n",
      "2010-11-26 21:01:00              0              0              0   \n",
      "2010-11-26 21:02:00              0              0              0   \n",
      "\n",
      "                     Time_23:59:00  \n",
      "dt                                  \n",
      "2010-01-06 00:00:00              0  \n",
      "2010-01-06 00:01:00              0  \n",
      "2010-01-06 00:02:00              0  \n",
      "2010-01-06 00:03:00              0  \n",
      "2010-01-06 00:04:00              0  \n",
      "...                            ...  \n",
      "2010-11-26 20:58:00              0  \n",
      "2010-11-26 20:59:00              0  \n",
      "2010-11-26 21:00:00              0  \n",
      "2010-11-26 21:01:00              0  \n",
      "2010-11-26 21:02:00              0  \n",
      "\n",
      "[257583 rows x 1449 columns]\n"
     ]
    }
   ],
   "source": [
    "df = pd.get_dummies(df)\n",
    "print(df)"
   ]
  },
  {
   "cell_type": "code",
   "execution_count": 18,
   "metadata": {},
   "outputs": [],
   "source": [
    "# Use numpy to convert to arrays\n",
    "import numpy as np"
   ]
  },
  {
   "cell_type": "code",
   "execution_count": 19,
   "metadata": {},
   "outputs": [],
   "source": [
    "# Labels are the values we want to predict\n",
    "labels = np.array(df['Global_active_power'])"
   ]
  },
  {
   "cell_type": "code",
   "execution_count": 20,
   "metadata": {},
   "outputs": [],
   "source": [
    "# Remove the labels from the df\n",
    "# axis 1 refers to the columns\n",
    "df= df.drop('Global_active_power', axis = 1)\n"
   ]
  },
  {
   "cell_type": "code",
   "execution_count": 21,
   "metadata": {},
   "outputs": [],
   "source": [
    "# Saving df names for later use\n",
    "df_list = list(df.columns)\n"
   ]
  },
  {
   "cell_type": "code",
   "execution_count": 22,
   "metadata": {},
   "outputs": [],
   "source": [
    "# Convert to numpy array\n",
    "df = np.array(df)"
   ]
  },
  {
   "cell_type": "code",
   "execution_count": 23,
   "metadata": {},
   "outputs": [],
   "source": [
    "\n",
    "# Using Skicit-learn to split data into training and testing sets\n",
    "from sklearn.model_selection import train_test_split\n"
   ]
  },
  {
   "cell_type": "code",
   "execution_count": 24,
   "metadata": {},
   "outputs": [],
   "source": [
    "# Split the data into training and testing sets\n",
    "train_df, test_df, train_labels, test_labels = train_test_split(df, labels, test_size = 0.25,\n",
    "                                                                            random_state = 2889)\n"
   ]
  },
  {
   "cell_type": "code",
   "execution_count": 25,
   "metadata": {},
   "outputs": [
    {
     "name": "stdout",
     "output_type": "stream",
     "text": [
      "Training Features Shape: (193187, 1448)\n",
      "Training Labels Shape: (193187,)\n",
      "Testing Features Shape: (64396, 1448)\n",
      "Testing Labels Shape: (64396,)\n"
     ]
    }
   ],
   "source": [
    "print('Training Features Shape:', train_df.shape)\n",
    "print('Training Labels Shape:', train_labels.shape)\n",
    "print('Testing Features Shape:', test_df.shape)\n",
    "print('Testing Labels Shape:', test_labels.shape)\n"
   ]
  },
  {
   "cell_type": "code",
   "execution_count": 26,
   "metadata": {},
   "outputs": [],
   "source": [
    "\n",
    "# The baseline predictions\n",
    "baseline_preds = test_df[:, df_list.index('avg')]"
   ]
  },
  {
   "cell_type": "code",
   "execution_count": 27,
   "metadata": {},
   "outputs": [
    {
     "data": {
      "text/plain": [
       "array([0.278, 0.124, 0.176, ..., 0.892, 0.302, 0.735], dtype=object)"
      ]
     },
     "execution_count": 27,
     "metadata": {},
     "output_type": "execute_result"
    }
   ],
   "source": [
    "baseline_preds"
   ]
  },
  {
   "cell_type": "code",
   "execution_count": 28,
   "metadata": {},
   "outputs": [
    {
     "data": {
      "text/plain": [
       "array([0.356, 0.248, 0.262, ..., 1.222, 0.418, 1.208])"
      ]
     },
     "execution_count": 28,
     "metadata": {},
     "output_type": "execute_result"
    }
   ],
   "source": [
    "test_labels"
   ]
  },
  {
   "cell_type": "code",
   "execution_count": 29,
   "metadata": {},
   "outputs": [],
   "source": [
    "# Baseline errors, and display average baseline error\n",
    "baseline_errors = abs(baseline_preds - test_labels)\n"
   ]
  },
  {
   "cell_type": "code",
   "execution_count": 30,
   "metadata": {},
   "outputs": [],
   "source": [
    "aver = np.nanmean(baseline_errors,dtype='float32')"
   ]
  },
  {
   "cell_type": "code",
   "execution_count": 31,
   "metadata": {},
   "outputs": [
    {
     "name": "stdout",
     "output_type": "stream",
     "text": [
      "Average baseline error:  0.4  kWh\n"
     ]
    }
   ],
   "source": [
    "print('Average baseline error: ', round(aver,2),' kWh')\n"
   ]
  },
  {
   "cell_type": "code",
   "execution_count": 32,
   "metadata": {},
   "outputs": [],
   "source": [
    "from sklearn.ensemble import RandomForestRegressor\n",
    "\n"
   ]
  },
  {
   "cell_type": "code",
   "execution_count": 33,
   "metadata": {},
   "outputs": [],
   "source": [
    "# Instantiate model \n",
    "rf = RandomForestRegressor(n_estimators= 5, random_state=2889)\n"
   ]
  },
  {
   "cell_type": "code",
   "execution_count": 34,
   "metadata": {},
   "outputs": [
    {
     "data": {
      "text/plain": [
       "array([[0.364, 240.81, 6.2, ..., 0, 0, 0],\n",
       "       [0.11199999999999999, 244.19, 7.6, ..., 0, 0, 0],\n",
       "       [0.064, 236.54, 3.4, ..., 0, 0, 0],\n",
       "       ...,\n",
       "       [0.0, 240.14, 5.0, ..., 0, 0, 0],\n",
       "       [0.055999999999999994, 243.38, 1.4, ..., 0, 0, 0],\n",
       "       [0.212, 243.4, 2.4, ..., 0, 0, 0]], dtype=object)"
      ]
     },
     "execution_count": 34,
     "metadata": {},
     "output_type": "execute_result"
    }
   ],
   "source": [
    "train_df[:,1:]"
   ]
  },
  {
   "cell_type": "code",
   "execution_count": 35,
   "metadata": {},
   "outputs": [
    {
     "name": "stdout",
     "output_type": "stream",
     "text": [
      "[[0.364 240.81 6.2 ... 0 0 0]\n",
      " [0.11199999999999999 244.19 7.6 ... 0 0 0]\n",
      " [0.064 236.54 3.4 ... 0 0 0]\n",
      " ...\n",
      " [0.0 240.14 5.0 ... 0 0 0]\n",
      " [0.055999999999999994 243.38 1.4 ... 0 0 0]\n",
      " [0.212 243.4 2.4 ... 0 0 0]]\n",
      "<class 'numpy.ndarray'>\n"
     ]
    }
   ],
   "source": [
    "print(train_df[:,1:])\n",
    "print(type(train_df[:,1:]))"
   ]
  },
  {
   "cell_type": "code",
   "execution_count": 36,
   "metadata": {},
   "outputs": [],
   "source": [
    "import pandas as pd"
   ]
  },
  {
   "cell_type": "code",
   "execution_count": 37,
   "metadata": {},
   "outputs": [],
   "source": [
    "train_df=np.nan_to_num(train_df)"
   ]
  },
  {
   "cell_type": "code",
   "execution_count": 38,
   "metadata": {},
   "outputs": [],
   "source": [
    "train_labels=np.nan_to_num(train_labels)"
   ]
  },
  {
   "cell_type": "code",
   "execution_count": 39,
   "metadata": {},
   "outputs": [],
   "source": [
    "train_dff=pd.DataFrame(train_df)"
   ]
  },
  {
   "cell_type": "code",
   "execution_count": 40,
   "metadata": {},
   "outputs": [],
   "source": [
    "train_labelss=pd.DataFrame(train_labels)"
   ]
  },
  {
   "cell_type": "code",
   "execution_count": null,
   "metadata": {},
   "outputs": [],
   "source": []
  },
  {
   "cell_type": "code",
   "execution_count": null,
   "metadata": {},
   "outputs": [],
   "source": []
  },
  {
   "cell_type": "code",
   "execution_count": 41,
   "metadata": {},
   "outputs": [
    {
     "data": {
      "text/plain": [
       "(array([], dtype=int64), array([], dtype=int64))"
      ]
     },
     "execution_count": 41,
     "metadata": {},
     "output_type": "execute_result"
    }
   ],
   "source": [
    "np.where(train_labelss.values >= np.finfo(np.float32).max)"
   ]
  },
  {
   "cell_type": "code",
   "execution_count": 42,
   "metadata": {},
   "outputs": [],
   "source": [
    "np.warnings.filterwarnings('ignore')"
   ]
  },
  {
   "cell_type": "code",
   "execution_count": 43,
   "metadata": {},
   "outputs": [],
   "source": [
    "train_dff = train_dff.iloc[: , 1:]"
   ]
  },
  {
   "cell_type": "code",
   "execution_count": 44,
   "metadata": {},
   "outputs": [
    {
     "data": {
      "text/plain": [
       "(array([], dtype=int64), array([], dtype=int64))"
      ]
     },
     "execution_count": 44,
     "metadata": {},
     "output_type": "execute_result"
    }
   ],
   "source": [
    "np.where(train_dff.values >= np.finfo(np.float32).max)"
   ]
  },
  {
   "cell_type": "code",
   "execution_count": 45,
   "metadata": {},
   "outputs": [
    {
     "data": {
      "text/plain": [
       "array([[1.45 ],\n",
       "       [1.854],\n",
       "       [0.786],\n",
       "       ...,\n",
       "       [1.226],\n",
       "       [0.3  ],\n",
       "       [0.544]])"
      ]
     },
     "execution_count": 45,
     "metadata": {},
     "output_type": "execute_result"
    }
   ],
   "source": [
    "train_dff.to_numpy()\n",
    "train_labelss.to_numpy()"
   ]
  },
  {
   "cell_type": "code",
   "execution_count": 46,
   "metadata": {},
   "outputs": [],
   "source": [
    "train_dff = np.float64(train_dff)\n",
    "train_labelss = np.float64(train_labelss)"
   ]
  },
  {
   "cell_type": "code",
   "execution_count": null,
   "metadata": {},
   "outputs": [],
   "source": []
  },
  {
   "cell_type": "code",
   "execution_count": 47,
   "metadata": {},
   "outputs": [],
   "source": [
    "train_df=train_df[:,1:]\n"
   ]
  },
  {
   "cell_type": "code",
   "execution_count": 48,
   "metadata": {},
   "outputs": [
    {
     "data": {
      "text/plain": [
       "0"
      ]
     },
     "execution_count": 48,
     "metadata": {},
     "output_type": "execute_result"
    }
   ],
   "source": [
    "np.isnan(train_labels).sum()"
   ]
  },
  {
   "cell_type": "code",
   "execution_count": 49,
   "metadata": {},
   "outputs": [
    {
     "data": {
      "text/plain": [
       "0"
      ]
     },
     "execution_count": 49,
     "metadata": {},
     "output_type": "execute_result"
    }
   ],
   "source": [
    "np.isinf(train_labels).sum()"
   ]
  },
  {
   "cell_type": "code",
   "execution_count": 50,
   "metadata": {},
   "outputs": [
    {
     "data": {
      "text/plain": [
       "65240"
      ]
     },
     "execution_count": 50,
     "metadata": {},
     "output_type": "execute_result"
    }
   ],
   "source": [
    "pd.isnull(train_df).sum()"
   ]
  },
  {
   "cell_type": "code",
   "execution_count": 51,
   "metadata": {},
   "outputs": [],
   "source": [
    "train_dff=pd.DataFrame(train_df)"
   ]
  },
  {
   "cell_type": "code",
   "execution_count": 52,
   "metadata": {},
   "outputs": [],
   "source": [
    "train_dff.dropna(inplace=True)"
   ]
  },
  {
   "cell_type": "code",
   "execution_count": 53,
   "metadata": {},
   "outputs": [],
   "source": [
    "train_df = train_dff.to_numpy()"
   ]
  },
  {
   "cell_type": "code",
   "execution_count": 54,
   "metadata": {},
   "outputs": [
    {
     "data": {
      "text/plain": [
       "0"
      ]
     },
     "execution_count": 54,
     "metadata": {},
     "output_type": "execute_result"
    }
   ],
   "source": [
    "pd.isnull(train_df).sum()"
   ]
  },
  {
   "cell_type": "code",
   "execution_count": 55,
   "metadata": {},
   "outputs": [
    {
     "name": "stdout",
     "output_type": "stream",
     "text": [
      "object\n"
     ]
    }
   ],
   "source": [
    "print(train_df.dtype)"
   ]
  },
  {
   "cell_type": "code",
   "execution_count": 56,
   "metadata": {},
   "outputs": [
    {
     "name": "stdout",
     "output_type": "stream",
     "text": [
      "float64\n"
     ]
    }
   ],
   "source": [
    "print(train_labels.dtype)"
   ]
  },
  {
   "cell_type": "code",
   "execution_count": 57,
   "metadata": {},
   "outputs": [
    {
     "name": "stdout",
     "output_type": "stream",
     "text": [
      "[[3.6400e-01 2.4081e+02 6.2000e+00 ... 0.0000e+00 0.0000e+00 0.0000e+00]\n",
      " [1.1200e-01 2.4419e+02 7.6000e+00 ... 0.0000e+00 0.0000e+00 0.0000e+00]\n",
      " [6.4000e-02 2.3654e+02 3.4000e+00 ... 0.0000e+00 0.0000e+00 0.0000e+00]\n",
      " ...\n",
      " [0.0000e+00 2.4014e+02 5.0000e+00 ... 0.0000e+00 0.0000e+00 0.0000e+00]\n",
      " [5.6000e-02 2.4338e+02 1.4000e+00 ... 0.0000e+00 0.0000e+00 0.0000e+00]\n",
      " [2.1200e-01 2.4340e+02 2.4000e+00 ... 0.0000e+00 0.0000e+00 0.0000e+00]]\n"
     ]
    }
   ],
   "source": [
    "print(train_df.astype(np.float32))"
   ]
  },
  {
   "cell_type": "code",
   "execution_count": 59,
   "metadata": {},
   "outputs": [
    {
     "name": "stdout",
     "output_type": "stream",
     "text": [
      "[1.45  1.854 0.786 ... 1.226 0.3   0.544]\n"
     ]
    }
   ],
   "source": [
    "print(train_labels)"
   ]
  },
  {
   "cell_type": "code",
   "execution_count": 62,
   "metadata": {},
   "outputs": [
    {
     "data": {
      "text/plain": [
       "RandomForestRegressor(bootstrap=True, ccp_alpha=0.0, criterion='mse',\n",
       "                      max_depth=None, max_features='auto', max_leaf_nodes=None,\n",
       "                      max_samples=None, min_impurity_decrease=0.0,\n",
       "                      min_impurity_split=None, min_samples_leaf=1,\n",
       "                      min_samples_split=2, min_weight_fraction_leaf=0.0,\n",
       "                      n_estimators=5, n_jobs=None, oob_score=False,\n",
       "                      random_state=2889, verbose=0, warm_start=False)"
      ]
     },
     "execution_count": 62,
     "metadata": {},
     "output_type": "execute_result"
    }
   ],
   "source": [
    "# Train the model on training data\n",
    "rf.fit(train_df[1:800], train_labels[1:800])"
   ]
  },
  {
   "cell_type": "code",
   "execution_count": 66,
   "metadata": {},
   "outputs": [
    {
     "name": "stdout",
     "output_type": "stream",
     "text": [
      "[[2.0000e-01 2.4325e+02 1.6000e+00 ... 0.0000e+00 0.0000e+00 0.0000e+00]\n",
      " [0.0000e+00 2.4170e+02 1.0000e+00 ... 0.0000e+00 0.0000e+00 0.0000e+00]\n",
      " [9.0000e-02 2.3970e+02 1.2000e+00 ... 0.0000e+00 0.0000e+00 0.0000e+00]\n",
      " ...\n",
      " [5.6200e-01 2.4099e+02 5.6000e+00 ... 0.0000e+00 0.0000e+00 0.0000e+00]\n",
      " [1.8600e-01 2.3994e+02 1.8000e+00 ... 0.0000e+00 0.0000e+00 0.0000e+00]\n",
      " [2.6200e-01 2.4126e+02 5.2000e+00 ... 0.0000e+00 0.0000e+00 0.0000e+00]]\n"
     ]
    }
   ],
   "source": []
  },
  {
   "cell_type": "code",
   "execution_count": 69,
   "metadata": {},
   "outputs": [
    {
     "data": {
      "text/plain": [
       "22029"
      ]
     },
     "execution_count": 69,
     "metadata": {},
     "output_type": "execute_result"
    }
   ],
   "source": [
    "pd.isnull(test_df).sum()"
   ]
  },
  {
   "cell_type": "code",
   "execution_count": 70,
   "metadata": {},
   "outputs": [],
   "source": [
    "test_dff=pd.DataFrame(test_df)"
   ]
  },
  {
   "cell_type": "code",
   "execution_count": 71,
   "metadata": {},
   "outputs": [],
   "source": [
    "test_dff.dropna(inplace=True)"
   ]
  },
  {
   "cell_type": "code",
   "execution_count": 72,
   "metadata": {},
   "outputs": [],
   "source": [
    "test_df = test_dff.to_numpy()"
   ]
  },
  {
   "cell_type": "code",
   "execution_count": 73,
   "metadata": {},
   "outputs": [
    {
     "data": {
      "text/plain": [
       "0"
      ]
     },
     "execution_count": 73,
     "metadata": {},
     "output_type": "execute_result"
    }
   ],
   "source": [
    "pd.isnull(test_df).sum()"
   ]
  },
  {
   "cell_type": "code",
   "execution_count": 74,
   "metadata": {},
   "outputs": [
    {
     "name": "stdout",
     "output_type": "stream",
     "text": [
      "object\n"
     ]
    }
   ],
   "source": [
    "print(test_df.dtype)"
   ]
  },
  {
   "cell_type": "code",
   "execution_count": 75,
   "metadata": {},
   "outputs": [
    {
     "name": "stdout",
     "output_type": "stream",
     "text": [
      "[[2.0000e-01 2.4325e+02 1.6000e+00 ... 0.0000e+00 0.0000e+00 0.0000e+00]\n",
      " [0.0000e+00 2.4170e+02 1.0000e+00 ... 0.0000e+00 0.0000e+00 0.0000e+00]\n",
      " [9.0000e-02 2.3970e+02 1.2000e+00 ... 0.0000e+00 0.0000e+00 0.0000e+00]\n",
      " ...\n",
      " [5.6200e-01 2.4099e+02 5.6000e+00 ... 0.0000e+00 0.0000e+00 0.0000e+00]\n",
      " [1.8600e-01 2.3994e+02 1.8000e+00 ... 0.0000e+00 0.0000e+00 0.0000e+00]\n",
      " [2.6200e-01 2.4126e+02 5.2000e+00 ... 0.0000e+00 0.0000e+00 0.0000e+00]]\n"
     ]
    }
   ],
   "source": [
    "print(test_df[:,1:].astype(np.float32))"
   ]
  },
  {
   "cell_type": "code",
   "execution_count": 76,
   "metadata": {},
   "outputs": [],
   "source": [
    "# Use the forest's predict method on the test data\n",
    "predictions = rf.predict(test_df[:,1:].astype(np.float32))\n"
   ]
  },
  {
   "cell_type": "code",
   "execution_count": 80,
   "metadata": {},
   "outputs": [],
   "source": [
    "# Calculate the absolute errors\n",
    "errors = abs(predictions[1:800] - test_labels[1:800])\n"
   ]
  },
  {
   "cell_type": "code",
   "execution_count": 83,
   "metadata": {},
   "outputs": [],
   "source": [
    "mean = np.nanmean(errors,dtype='float32')"
   ]
  },
  {
   "cell_type": "code",
   "execution_count": 85,
   "metadata": {},
   "outputs": [
    {
     "name": "stdout",
     "output_type": "stream",
     "text": [
      "Mean Absolute Error: 0.67  kWh\n"
     ]
    }
   ],
   "source": [
    "# Print out the mean absolute error (mae)\n",
    "print('Mean Absolute Error:', round(mean, 2), ' kWh')"
   ]
  },
  {
   "cell_type": "code",
   "execution_count": 89,
   "metadata": {},
   "outputs": [],
   "source": [
    "# Calculate mean absolute percentage error (MAPE)\n",
    "mape = 100 * ((errors[1:600]) / test_labels[1:600])"
   ]
  },
  {
   "cell_type": "code",
   "execution_count": 93,
   "metadata": {},
   "outputs": [
    {
     "name": "stdout",
     "output_type": "stream",
     "text": [
      "Accuracy: 46.48 %.\n"
     ]
    }
   ],
   "source": [
    "# Calculate and display accuracy\n",
    "accuracy = 200 - np.nanmean(mape)\n",
    "print('Accuracy:', round(accuracy, 2), '%.')"
   ]
  },
  {
   "cell_type": "code",
   "execution_count": 94,
   "metadata": {},
   "outputs": [],
   "source": [
    "rf_new = RandomForestRegressor(n_estimators = 100, criterion = 'mse', max_depth = None, \n",
    "                               min_samples_split = 2, min_samples_leaf = 1)\n"
   ]
  },
  {
   "cell_type": "code",
   "execution_count": 95,
   "metadata": {},
   "outputs": [],
   "source": [
    "#Import tools needed for visualization\n",
    "from sklearn.tree import export_graphviz\n",
    "import pydot"
   ]
  },
  {
   "cell_type": "code",
   "execution_count": 101,
   "metadata": {},
   "outputs": [],
   "source": [
    "\n",
    "# Pull out one tree from the forest\n",
    "tree = rf.estimators_[4]"
   ]
  },
  {
   "cell_type": "code",
   "execution_count": null,
   "metadata": {},
   "outputs": [],
   "source": []
  },
  {
   "cell_type": "code",
   "execution_count": null,
   "metadata": {},
   "outputs": [],
   "source": []
  },
  {
   "cell_type": "code",
   "execution_count": null,
   "metadata": {},
   "outputs": [],
   "source": []
  },
  {
   "cell_type": "code",
   "execution_count": null,
   "metadata": {},
   "outputs": [],
   "source": []
  }
 ],
 "metadata": {
  "kernelspec": {
   "display_name": "Python 3",
   "language": "python",
   "name": "python3"
  },
  "language_info": {
   "codemirror_mode": {
    "name": "ipython",
    "version": 3
   },
   "file_extension": ".py",
   "mimetype": "text/x-python",
   "name": "python",
   "nbconvert_exporter": "python",
   "pygments_lexer": "ipython3",
   "version": "3.7.6"
  }
 },
 "nbformat": 4,
 "nbformat_minor": 4
}
